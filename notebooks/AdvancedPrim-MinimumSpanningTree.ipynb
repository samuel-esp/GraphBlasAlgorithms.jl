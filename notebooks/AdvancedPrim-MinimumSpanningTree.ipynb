{
 "cells": [
  {
   "cell_type": "code",
   "execution_count": 2,
   "id": "ebe08d9c",
   "metadata": {},
   "outputs": [],
   "source": [
    "using SuiteSparseGraphBLAS\n",
    "using SparseArrays\n",
    "using LinearAlgebra"
   ]
  },
  {
   "cell_type": "code",
   "execution_count": 3,
   "id": "4620d58f",
   "metadata": {},
   "outputs": [
    {
     "data": {
      "text/plain": [
       "stoppingCondition (generic function with 1 method)"
      ]
     },
     "execution_count": 3,
     "metadata": {},
     "output_type": "execute_result"
    }
   ],
   "source": [
    "function stoppingCondition(m, n)\n",
    "\n",
    "infinito = true\n",
    "    \n",
    "for i = 1:n\n",
    "        if(m[i] == 0.0)\n",
    "            return false\n",
    "    end\n",
    "end\n",
    "    return infinito\n",
    "end"
   ]
  },
  {
   "cell_type": "code",
   "execution_count": 9,
   "id": "69907e3b",
   "metadata": {},
   "outputs": [
    {
     "data": {
      "text/plain": [
       "prim (generic function with 1 method)"
      ]
     },
     "execution_count": 9,
     "metadata": {},
     "output_type": "execute_result"
    }
   ],
   "source": [
    "#A is the input matrix, s is the source node, n is the number of nodes \n",
    "function prim(A, n)\n",
    "    \n",
    "    m = GBVector([Inf, 0.0, 0.0, 0.0]) #source matrix\n",
    "    d = GBVector{Float64}(n)\n",
    "    \n",
    "    weight = 0.0\n",
    "    \n",
    "    d = A[1,:]\n",
    "    mst = GBVector{Float64}(n) #minimum spanning tree\n",
    "    \n",
    "    print(\"INITIAL WEIGHT: \")\n",
    "    print(weight)\n",
    "    print(\"\\n\\n\")\n",
    "    while(stoppingCondition(m, n) == false)\n",
    "        \n",
    "        u = argmin(m'+d)\n",
    "        m[u[2]] = Inf\n",
    "        push!(mst, d[u[2]])\n",
    "        weight = weight + d[u[2]]\n",
    "        print(\"WEIGHT: \")\n",
    "        print(weight)\n",
    "        d = emul(d, A[u[1],:],  BinaryOps.MIN)\n",
    "        print(\"  ITERATION FINISHED\")\n",
    "        print(\"\\n\\n\\n\")\n",
    "    end\n",
    "    \n",
    "    print(\"COMPLETED\")\n",
    "    print(\" ALL THE NODES HAVE BEEN PROCESSED (INF)\")\n",
    "    print(\"\\n\\n\\n\")\n",
    "    print(m')\n",
    "    print(\"\\n\\n\\n\")\n",
    "    print(\"MINIMUM SPANNING TREE EDGES\")\n",
    "    print(\"\\n\\n\\n\")\n",
    "    print(mst)\n",
    "    \n",
    "end"
   ]
  },
  {
   "cell_type": "code",
   "execution_count": 10,
   "id": "b29873ff",
   "metadata": {},
   "outputs": [
    {
     "name": "stdout",
     "output_type": "stream",
     "text": [
      "INITIAL WEIGHT: 0.0\n",
      "\n",
      "WEIGHT: 5.0  ITERATION FINISHED\n",
      "\n",
      "\n",
      "WEIGHT: 10.0  ITERATION FINISHED\n",
      "\n",
      "\n",
      "WEIGHT: 17.0  ITERATION FINISHED\n",
      "\n",
      "\n",
      "COMPLETED ALL THE NODES HAVE BEEN PROCESSED (INF)\n",
      "\n",
      "\n",
      "[Inf Inf Inf Inf]\n",
      "\n",
      "\n",
      "MINIMUM SPANNING TREE EDGES\n",
      "\n",
      "\n",
      "7x1 GraphBLAS double vector, bitmap by col\n",
      "  3 entries, memory: 328 bytes\n",
      "\n",
      "    (5,1)    5\n",
      "    (6,1)    5\n",
      "    (7,1)    7\n"
     ]
    }
   ],
   "source": [
    "#0, 7, 5, 5, \n",
    "#7, 0, 0, 0, \n",
    "#5, 0, 0, 0, \n",
    "#5, 0, 0, 0, \n",
    "\n",
    "#DESIRED OUTPUT: 17\n",
    "\n",
    "matrix =  GBMatrix([[0.0, 7.0, 5.0, 5.0] [7.0, 0.0, 0.0, 0.0] [5.0, 0.0, 0.0, 0.0] [5.0, 0.0, 0.0, 0.0]])\n",
    "prim(matrix, 4)"
   ]
  },
  {
   "cell_type": "code",
   "execution_count": null,
   "id": "1c463a58",
   "metadata": {},
   "outputs": [],
   "source": []
  }
 ],
 "metadata": {
  "kernelspec": {
   "display_name": "Julia 1.6.2",
   "language": "julia",
   "name": "julia-1.6"
  },
  "language_info": {
   "file_extension": ".jl",
   "mimetype": "application/julia",
   "name": "julia",
   "version": "1.6.2"
  }
 },
 "nbformat": 4,
 "nbformat_minor": 5
}
