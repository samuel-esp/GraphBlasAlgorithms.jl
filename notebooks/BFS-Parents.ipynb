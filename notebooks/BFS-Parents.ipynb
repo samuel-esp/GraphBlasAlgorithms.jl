{
 "cells": [
  {
   "cell_type": "markdown",
   "id": "b8d8c288",
   "metadata": {},
   "source": [
    "## BFS Parents Algorithm (Julia - Graph Blas Library)"
   ]
  },
  {
   "cell_type": "code",
   "execution_count": 3,
   "id": "819dbb67",
   "metadata": {},
   "outputs": [],
   "source": [
    "using SuiteSparseGraphBLAS\n",
    "using SparseArrays\n",
    "using LinearAlgebra"
   ]
  },
  {
   "cell_type": "code",
   "execution_count": 501,
   "id": "92baff21",
   "metadata": {},
   "outputs": [
    {
     "data": {
      "text/plain": [
       "insert (generic function with 2 methods)"
      ]
     },
     "execution_count": 501,
     "metadata": {},
     "output_type": "execute_result"
    }
   ],
   "source": [
    "function insert(p, result)\n",
    "    for i=1:length(p)\n",
    "        if(p[i]!=nothing && result[i]==nothing)\n",
    "            result[i] = p[i]\n",
    "        end\n",
    "    end\n",
    "    \n",
    "    return result\n",
    "    \n",
    "end\n",
    "        "
   ]
  },
  {
   "cell_type": "code",
   "execution_count": 536,
   "id": "f1a1bf5a",
   "metadata": {},
   "outputs": [
    {
     "data": {
      "text/plain": [
       "updateVisited (generic function with 1 method)"
      ]
     },
     "execution_count": 536,
     "metadata": {},
     "output_type": "execute_result"
    }
   ],
   "source": [
    "function updateVisited(f, visited)\n",
    "    for i=1:length(f)\n",
    "        if(f[i]!=nothing)\n",
    "            visited[i] = true\n",
    "        end\n",
    "    end\n",
    "    \n",
    "    return visited\n",
    "    \n",
    "end\n",
    "        "
   ]
  },
  {
   "cell_type": "code",
   "execution_count": 1,
   "id": "c473dd7b",
   "metadata": {},
   "outputs": [
    {
     "data": {
      "text/plain": [
       "bfs_parents (generic function with 1 method)"
      ]
     },
     "execution_count": 1,
     "metadata": {},
     "output_type": "execute_result"
    }
   ],
   "source": [
    "#A is the input matrix, s is the source node, and n is the number of nodes\n",
    "function bfs_parents(A, s, n)\n",
    "     \n",
    "    index = GBVector{Int64}(n)\n",
    "        for i = 1:n\n",
    "            index[i] = i\n",
    "        end\n",
    "    \n",
    "    #wavefront vector -> w[s]=source node insrted in wavefront\n",
    "    f = GBVector{Int64}(n)\n",
    "    f[s] = 1\n",
    "\n",
    "    #parent vector -> p[s]=1 because the source is already visited\n",
    "    p = GBVector{Int64}(n)\n",
    "    \n",
    "    #result vector -> result[s]=0 because the parent of the source is considered node 0\n",
    "    result = GBVector{Int64}(n)\n",
    "    result[s] = 0\n",
    "    \n",
    "    #visited vector -> v[s]=1 because the source is already visited\n",
    "    visited = GBVector{Bool}(n)\n",
    "    visited[s] = true\n",
    "    \n",
    "    print(\"STARTING ...\\n\\n\")\n",
    "    for i = 1:n-1\n",
    "            f = mul(f, A, Semirings.MIN_FIRST, mask=p, desc=Descriptors.SC)\n",
    "            p = f[:, mask=f, desc=Descriptors.S]\n",
    "            f = index[:, mask=f, desc=Descriptors.S]\n",
    "            result = insert(p, result)\n",
    "            visited = updateVisited(f, visited)\n",
    "            unvisited = filter(x -> x!=true, visited)\n",
    "            if(isempty(unvisited))\n",
    "                break\n",
    "            end\n",
    "            print(\"\\nITERATION FINISHED\\n\\n\")\n",
    "            print(result)\n",
    "            \n",
    "    end\n",
    "    \n",
    "    print(\"COMPLETED\\n\\n\")\n",
    "    print(\"RESULT\\n\\n\")\n",
    "    print(result')\n",
    "    \n",
    "end"
   ]
  },
  {
   "cell_type": "markdown",
   "id": "73351d60",
   "metadata": {},
   "source": [
    "## Test"
   ]
  },
  {
   "cell_type": "code",
   "execution_count": 551,
   "id": "11818fc2",
   "metadata": {
    "scrolled": true
   },
   "outputs": [
    {
     "name": "stdout",
     "output_type": "stream",
     "text": [
      "STARTING ...\n",
      "\n",
      "7x1 GraphBLAS int64_t vector, bitmap by col\n",
      "  2 entries, memory: 328 bytes\n",
      "\n",
      "    (2,1)   2\n",
      "    (4,1)   4\n",
      "\n",
      "ITERATION FINISHED\n",
      "\n",
      "7x1 GraphBLAS int64_t vector, bitmap by col\n",
      "  3 entries, memory: 328 bytes\n",
      "\n",
      "    (1,1)   0\n",
      "    (2,1)   1\n",
      "    (4,1)   1\n",
      "7x1 GraphBLAS int64_t vector, bitmap by col\n",
      "  4 entries, memory: 328 bytes\n",
      "\n",
      "    (1,1)   1\n",
      "    (3,1)   3\n",
      "    (5,1)   5\n",
      "    (7,1)   7\n",
      "\n",
      "ITERATION FINISHED\n",
      "\n",
      "7x1 GraphBLAS int64_t vector, bitmap by col\n",
      "  6 entries, memory: 328 bytes\n",
      "\n",
      "    (1,1)   0\n",
      "    (2,1)   1\n",
      "    (3,1)   4\n",
      "    (4,1)   1\n",
      "    (5,1)   2\n",
      "    (7,1)   2\n",
      "7x1 GraphBLAS int64_t vector, bitmap by col\n",
      "  3 entries, memory: 328 bytes\n",
      "\n",
      "    (2,1)   2\n",
      "    (4,1)   4\n",
      "    (6,1)   6\n",
      "COMPLETED\n",
      "\n",
      "RESULT\n",
      "\n",
      "[0 1 4 1 2 3 2]  0.070613 seconds (129.99 k allocations: 7.562 MiB, 96.72% compilation time)\n"
     ]
    }
   ],
   "source": [
    "#0, 1, 1, 1, 0, 0, 0, \n",
    "#0, 0, 0, 0, 0, 0, 0, \n",
    "#0, 0, 0, 0, 0, 0, 0, \n",
    "#0, 0, 0, 0, 0, 1, 0, \n",
    "#0, 0, 0, 0, 0, 0, 0, \n",
    "#0, 0, 0, 0, 0, 0, 1, \n",
    "#0, 0, 0, 0, 1, 0, 0, \n",
    "\n",
    "#[0, 0, 0, 1, 0, 0, 0] [1, 0, 0, 0, 0, 0, 0] [0, 0, 0, 1, 0, 1, 1] [1, 0, 0, 0, 0, 0, 1] [0, 1, 0, 0, 0, 0, 1] [0, 0, 1, 0, 1, 0, 0] [0, 1, 0, 0, 0, 0, 0]\n",
    "\n",
    "\n",
    "matrix =  GBMatrix(sparse([[0, 0, 0, 1, 0, 0, 0] [1, 0, 0, 0, 0, 0, 0] [0, 0, 0, 1, 0, 1, 1] [1, 0, 0, 0, 0, 0, 1] [0, 1, 0, 0, 0, 0, 1] [0, 0, 1, 0, 1, 0, 0] [0, 1, 0, 0, 0, 0, 0]]))\n",
    "@time bfs_parents(matrix, 1, 7)\n"
   ]
  },
  {
   "cell_type": "code",
   "execution_count": null,
   "id": "609a957e",
   "metadata": {},
   "outputs": [],
   "source": []
  }
 ],
 "metadata": {
  "kernelspec": {
   "display_name": "Julia 1.6.2",
   "language": "julia",
   "name": "julia-1.6"
  },
  "language_info": {
   "file_extension": ".jl",
   "mimetype": "application/julia",
   "name": "julia",
   "version": "1.6.2"
  }
 },
 "nbformat": 4,
 "nbformat_minor": 5
}
