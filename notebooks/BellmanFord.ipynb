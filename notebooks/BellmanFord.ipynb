{
 "cells": [
  {
   "cell_type": "markdown",
   "id": "e5bdaf29",
   "metadata": {},
   "source": [
    "## Bellman Ford Algorithm (Julia - Graph Blas Library)"
   ]
  },
  {
   "cell_type": "code",
   "execution_count": 2,
   "id": "85e46b50",
   "metadata": {},
   "outputs": [],
   "source": [
    "using SuiteSparseGraphBLAS\n",
    "using SparseArrays"
   ]
  },
  {
   "cell_type": "code",
   "execution_count": 3,
   "id": "640e287d",
   "metadata": {},
   "outputs": [
    {
     "data": {
      "text/plain": [
       "bellmanford (generic function with 1 method)"
      ]
     },
     "execution_count": 3,
     "metadata": {},
     "output_type": "execute_result"
    }
   ],
   "source": [
    "#A is the input matrix, s is the source node, and n is the number of nodes\n",
    "function bellmanford(A, s, n)\n",
    "     \n",
    "    #vector init +inf\n",
    "    d = GBVector{Float64}(n)\n",
    "        for i = 1:n\n",
    "            d[i] = Inf\n",
    "        end\n",
    "            \n",
    "    d[s]=0.0\n",
    "    for i = 1:n\n",
    "           d = mul(d, A, Semirings.MIN_PLUS, mask=d, desc=Descriptors.S)\n",
    "            print(d)\n",
    "    end\n",
    "    \n",
    "end"
   ]
  },
  {
   "cell_type": "markdown",
   "id": "c746e0ce",
   "metadata": {},
   "source": [
    "## Test"
   ]
  },
  {
   "cell_type": "code",
   "execution_count": 5,
   "id": "b50731b0",
   "metadata": {},
   "outputs": [
    {
     "name": "stdout",
     "output_type": "stream",
     "text": [
      "7x1 GraphBLAS double vector, bitmap by col\n",
      "  7 entries, memory: 328 bytes\n",
      "\n",
      "    (1,1)    0\n",
      "    (2,1)    0.3\n",
      "    (3,1)    Inf\n",
      "    (4,1)    0.8\n",
      "    (5,1)    Inf\n",
      "    (6,1)    Inf\n",
      "    (7,1)    Inf\n",
      "7x1 GraphBLAS double vector, bitmap by col\n",
      "  7 entries, memory: 328 bytes\n",
      "\n",
      "    (1,1)    0\n",
      "    (2,1)    0.3\n",
      "    (3,1)    1.2\n",
      "    (4,1)    0.8\n",
      "    (5,1)    0.4\n",
      "    (6,1)    Inf\n",
      "    (7,1)    1\n",
      "7x1 GraphBLAS double vector, bitmap by col\n",
      "  7 entries, memory: 328 bytes\n",
      "\n",
      "    (1,1)    0\n",
      "    (2,1)    0.3\n",
      "    (3,1)    1.1\n",
      "    (4,1)    0.8\n",
      "    (5,1)    0.4\n",
      "    (6,1)    0.5\n",
      "    (7,1)    1\n",
      "7x1 GraphBLAS double vector, bitmap by col\n",
      "  7 entries, memory: 328 bytes\n",
      "\n",
      "    (1,1)    0\n",
      "    (2,1)    0.3\n",
      "    (3,1)    1\n",
      "    (4,1)    0.8\n",
      "    (5,1)    0.4\n",
      "    (6,1)    0.5\n",
      "    (7,1)    1\n",
      "7x1 GraphBLAS double vector, bitmap by col\n",
      "  7 entries, memory: 328 bytes\n",
      "\n",
      "    (1,1)    0\n",
      "    (2,1)    0.3\n",
      "    (3,1)    1\n",
      "    (4,1)    0.8\n",
      "    (5,1)    0.4\n",
      "    (6,1)    0.5\n",
      "    (7,1)    1\n",
      "7x1 GraphBLAS double vector, bitmap by col\n",
      "  7 entries, memory: 328 bytes\n",
      "\n",
      "    (1,1)    0\n",
      "    (2,1)    0.3\n",
      "    (3,1)    1\n",
      "    (4,1)    0.8\n",
      "    (5,1)    0.4\n",
      "    (6,1)    0.5\n",
      "    (7,1)    1\n",
      "7x1 GraphBLAS double vector, bitmap by col\n",
      "  7 entries, memory: 328 bytes\n",
      "\n",
      "    (1,1)    0\n",
      "    (2,1)    0.3\n",
      "    (3,1)    1\n",
      "    (4,1)    0.8\n",
      "    (5,1)    0.4\n",
      "    (6,1)    0.5\n",
      "    (7,1)    1\n",
      "  0.003874 seconds (421 allocations: 29.984 KiB)\n"
     ]
    }
   ],
   "source": [
    "#always make sure to write your matrix column per column\n",
    "\n",
    "\n",
    "#matrix is a 7*7 matrix\n",
    "matrix =  GBMatrix([[0, Inf, Inf, 0.2, Inf, Inf, Inf] [0.3, 0, Inf, Inf, Inf, Inf, Inf] [Inf, Inf, 0, 0.4, Inf, 0.5, 0.1] [0.8, Inf, Inf, 0, Inf, Inf, 0.5] [Inf, 0.1, Inf, Inf, 0, Inf, 0.9] [Inf, Inf, 0.5, Inf, 0.1, 0, Inf] [Inf, 0.7, Inf, Inf, Inf, Inf, 0]])\n",
    "\n",
    "#applying the algorithm from source node 1 \n",
    "@time bellmanford(matrix, 1, 7)"
   ]
  },
  {
   "cell_type": "code",
   "execution_count": null,
   "id": "4751b357",
   "metadata": {},
   "outputs": [],
   "source": []
  }
 ],
 "metadata": {
  "kernelspec": {
   "display_name": "Julia 1.6.2",
   "language": "julia",
   "name": "julia-1.6"
  },
  "language_info": {
   "file_extension": ".jl",
   "mimetype": "application/julia",
   "name": "julia",
   "version": "1.6.2"
  }
 },
 "nbformat": 4,
 "nbformat_minor": 5
}
