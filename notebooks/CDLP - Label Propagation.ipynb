{
 "cells": [
  {
   "cell_type": "markdown",
   "id": "5379aacc",
   "metadata": {},
   "source": [
    "## CDLP - Label Propagation (Julia - Graph Blas Library)"
   ]
  },
  {
   "cell_type": "code",
   "execution_count": 17,
   "id": "cfb330c3",
   "metadata": {},
   "outputs": [],
   "source": [
    "using SuiteSparseGraphBLAS\n",
    "using SparseArrays\n",
    "using LinearAlgebra\n",
    "using DataStructures"
   ]
  },
  {
   "cell_type": "code",
   "execution_count": 18,
   "id": "60a2fedb",
   "metadata": {},
   "outputs": [
    {
     "data": {
      "text/plain": [
       "minMode (generic function with 1 method)"
      ]
     },
     "execution_count": 18,
     "metadata": {},
     "output_type": "execute_result"
    }
   ],
   "source": [
    "#minMode function: given a collection [1, 5, 5, 3, 3, 7] will return 3 because the highest repetition is 2\n",
    "#and the lowest most repeated number is 3\n",
    "function minMode(c)\n",
    "    \n",
    "    minVal = -1\n",
    "    i = 0\n",
    "    \n",
    "    for row in eachrow(c)\n",
    "    i = i+1\n",
    "    row = collect(row)\n",
    "    temp = filter(x -> x!=0, row)\n",
    "    count = counter(temp)\n",
    "    sortedCollection = sort(collect(count), by=x->x[2], rev=true)\n",
    "    minVal = sortedCollection[1][1]\n",
    "    repetitions = sortedCollection[1][2]\n",
    "    for (key, value) in sortedCollection\n",
    "        if(value == repetitions)\n",
    "            if(key < minVal)\n",
    "                minVal = key\n",
    "            end\n",
    "        end\n",
    "    end\n",
    "\n",
    "    end\n",
    "    \n",
    "    return minVal\n",
    "end"
   ]
  },
  {
   "cell_type": "code",
   "execution_count": 19,
   "id": "b79629b0",
   "metadata": {},
   "outputs": [
    {
     "data": {
      "text/plain": [
       "diag_conversion (generic function with 1 method)"
      ]
     },
     "execution_count": 19,
     "metadata": {},
     "output_type": "execute_result"
    }
   ],
   "source": [
    "#can be useful if you wanna tweak the algorithm\n",
    "function diag_conversion(lab, n)    \n",
    "for i = 1:n\n",
    "        for j = 1:n\n",
    "            if(i==j)\n",
    "                lab[i,j]=i\n",
    "            else\n",
    "                lab[i,j]=0\n",
    "            end\n",
    "        end\n",
    "    end\n",
    "    return lab\n",
    "end"
   ]
  },
  {
   "cell_type": "code",
   "execution_count": 20,
   "id": "ddf9a1af",
   "metadata": {},
   "outputs": [
    {
     "data": {
      "text/plain": [
       "cdlp (generic function with 1 method)"
      ]
     },
     "execution_count": 20,
     "metadata": {},
     "output_type": "execute_result"
    }
   ],
   "source": [
    "#A is the input matrix, s is the source node, and n is the number of nodes\n",
    "function cdlp(A, n, t)\n",
    "     \n",
    "    lab = GBMatrix{Int64}(n,n)\n",
    "    \n",
    "    for i = 1:n\n",
    "        for j = 1:n\n",
    "            if(i==j)\n",
    "                lab[i,j]=i\n",
    "            else\n",
    "                lab[i,j]=0\n",
    "            end\n",
    "        end\n",
    "    end\n",
    "    \n",
    "    print(\"STARTING\\n\")\n",
    "    for k = 1:t\n",
    "            F = mul(A, lab, Semirings.PLUS_TIMES)\n",
    "            print(\"\\n\\n\")           \n",
    "            for i = 1:n\n",
    "            r = F[i,:]\n",
    "            r = sort(r, dims=2)\n",
    "            lab[i, i] = minMode(r)\n",
    "        end\n",
    "        \n",
    "        print(\"\\n\\nITERATION COMPLETED\\n\\n\")\n",
    "        print(sparse(lab))\n",
    "        \n",
    "    end\n",
    "    \n",
    "    print(\"\\n\\n\\nFINISHED\")\n",
    "    \n",
    "end"
   ]
  },
  {
   "cell_type": "markdown",
   "id": "fe8be73f",
   "metadata": {},
   "source": [
    "## Test"
   ]
  },
  {
   "cell_type": "code",
   "execution_count": 21,
   "id": "461eb42c",
   "metadata": {},
   "outputs": [
    {
     "name": "stdout",
     "output_type": "stream",
     "text": [
      "STARTING\n",
      "\n",
      "\n",
      "\n",
      "\n",
      "ITERATION COMPLETED\n",
      "\n",
      "\n",
      " 2  ⋅  ⋅  ⋅  ⋅  ⋅  ⋅\n",
      " ⋅  1  ⋅  ⋅  ⋅  ⋅  ⋅\n",
      " ⋅  ⋅  4  ⋅  ⋅  ⋅  ⋅\n",
      " ⋅  ⋅  ⋅  1  ⋅  ⋅  ⋅\n",
      " ⋅  ⋅  ⋅  ⋅  2  ⋅  ⋅\n",
      " ⋅  ⋅  ⋅  ⋅  ⋅  3  ⋅\n",
      " ⋅  ⋅  ⋅  ⋅  ⋅  ⋅  2\n",
      "\n",
      "\n",
      "\n",
      "ITERATION COMPLETED\n",
      "\n",
      "\n",
      " 1  ⋅  ⋅  ⋅  ⋅  ⋅  ⋅\n",
      " ⋅  2  ⋅  ⋅  ⋅  ⋅  ⋅\n",
      " ⋅  ⋅  1  ⋅  ⋅  ⋅  ⋅\n",
      " ⋅  ⋅  ⋅  2  ⋅  ⋅  ⋅\n",
      " ⋅  ⋅  ⋅  ⋅  1  ⋅  ⋅\n",
      " ⋅  ⋅  ⋅  ⋅  ⋅  2  ⋅\n",
      " ⋅  ⋅  ⋅  ⋅  ⋅  ⋅  1\n",
      "\n",
      "\n",
      "\n",
      "ITERATION COMPLETED\n",
      "\n",
      "\n",
      " 2  ⋅  ⋅  ⋅  ⋅  ⋅  ⋅\n",
      " ⋅  1  ⋅  ⋅  ⋅  ⋅  ⋅\n",
      " ⋅  ⋅  2  ⋅  ⋅  ⋅  ⋅\n",
      " ⋅  ⋅  ⋅  1  ⋅  ⋅  ⋅\n",
      " ⋅  ⋅  ⋅  ⋅  2  ⋅  ⋅\n",
      " ⋅  ⋅  ⋅  ⋅  ⋅  1  ⋅\n",
      " ⋅  ⋅  ⋅  ⋅  ⋅  ⋅  1\n",
      "\n",
      "\n",
      "\n",
      "ITERATION COMPLETED\n",
      "\n",
      "\n",
      " 1  ⋅  ⋅  ⋅  ⋅  ⋅  ⋅\n",
      " ⋅  2  ⋅  ⋅  ⋅  ⋅  ⋅\n",
      " ⋅  ⋅  1  ⋅  ⋅  ⋅  ⋅\n",
      " ⋅  ⋅  ⋅  2  ⋅  ⋅  ⋅\n",
      " ⋅  ⋅  ⋅  ⋅  1  ⋅  ⋅\n",
      " ⋅  ⋅  ⋅  ⋅  ⋅  2  ⋅\n",
      " ⋅  ⋅  ⋅  ⋅  ⋅  ⋅  1\n",
      "\n",
      "\n",
      "FINISHED  0.121988 seconds (188.39 k allocations: 10.592 MiB, 84.28% compilation time)\n"
     ]
    }
   ],
   "source": [
    "#EXPECTED:\n",
    "#1 0 0 0 0 0 0\n",
    "#0 2 0 0 0 0 0\n",
    "#0 0 1 0 0 0 0\n",
    "#0 0 0 2 0 0 0\n",
    "#0 0 0 0 1 0 0\n",
    "#0 0 0 0 0 2 0\n",
    "#0 0 0 0 0 0 1\n",
    "\n",
    "matrix =  GBMatrix(sparse([[0, 1, 0, 1, 0, 0, 0] [1, 0, 0, 0, 1, 0, 1] [0, 0, 0, 1, 0, 1, 1] [1, 0, 1, 0, 0, 0, 1] [0, 1, 0, 0, 0, 1, 1] [0, 0, 1, 0, 1, 0, 0] [0, 1, 1, 1, 1, 0, 0]]))\n",
    "#matrix_b =  GBMatrix([[0, 1, 0, 1, 0, 0, 0] [1, 0, 0, 0, 1, 0, 1] [0, 0, 0, 1, 0, 1, 1] [1, 0, 1, 0, 0, 0, 1] [0, 1, 0, 0, 0, 1, 1] [0, 0, 1, 0, 1, 0, 0] [0, 1, 1, 1, 1, 0, 0]])\n",
    "\n",
    "@time cdlp(matrix, 7, 4)\n"
   ]
  },
  {
   "cell_type": "code",
   "execution_count": null,
   "id": "d29d2833",
   "metadata": {},
   "outputs": [],
   "source": []
  }
 ],
 "metadata": {
  "kernelspec": {
   "display_name": "Julia 1.6.2",
   "language": "julia",
   "name": "julia-1.6"
  },
  "language_info": {
   "file_extension": ".jl",
   "mimetype": "application/julia",
   "name": "julia",
   "version": "1.6.2"
  }
 },
 "nbformat": 4,
 "nbformat_minor": 5
}
