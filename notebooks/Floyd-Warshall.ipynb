{
 "cells": [
  {
   "cell_type": "markdown",
   "id": "27433f5b",
   "metadata": {},
   "source": [
    "## Floyd Warshall Algorithm (Julia - Graph Blas Library)"
   ]
  },
  {
   "cell_type": "code",
   "execution_count": 2,
   "id": "18b01126",
   "metadata": {},
   "outputs": [],
   "source": [
    "using SuiteSparseGraphBLAS\n",
    "using SparseArrays"
   ]
  },
  {
   "cell_type": "code",
   "execution_count": 3,
   "id": "e241ecfe",
   "metadata": {},
   "outputs": [
    {
     "data": {
      "text/plain": [
       "floydwarshall (generic function with 1 method)"
      ]
     },
     "execution_count": 3,
     "metadata": {},
     "output_type": "execute_result"
    }
   ],
   "source": [
    "#A is the input matrix for Floyd-Warshall multiple sources multiple destinations \n",
    "function floydwarshall(A, n)\n",
    "     \n",
    "    #distance matrix = input matrix\n",
    "    D = A\n",
    "    print(D)\n",
    "    \n",
    "            \n",
    "    for i = 1:n\n",
    "            print(\"\\n\\n\\n\")\n",
    "            partial = mul(D[:,i], D[i,:], Semirings.MIN_PLUS)\n",
    "            D = emul(D, partial,  BinaryOps.MIN)\n",
    "            print(partial)\n",
    "    end\n",
    "    \n",
    "end"
   ]
  },
  {
   "cell_type": "markdown",
   "id": "53c8ee7c",
   "metadata": {},
   "source": [
    "## Test"
   ]
  },
  {
   "cell_type": "code",
   "execution_count": 6,
   "id": "019da23c",
   "metadata": {},
   "outputs": [
    {
     "name": "stdout",
     "output_type": "stream",
     "text": [
      "[0 3 4 1; 5 0 1 6; 4 7 0 5; 7 2 3 0]\n",
      "\n",
      "\n",
      "[0 3 4 1; 5 8 9 6; 4 7 8 5; 7 10 11 8]\n",
      "\n",
      "\n",
      "[8 3 4 9; 5 0 1 6; 12 7 8 13; 7 2 3 8]\n",
      "\n",
      "\n",
      "[8 11 4 9; 5 8 1 6; 4 7 0 5; 7 10 3 8]\n",
      "\n",
      "\n",
      "[8 3 4 1; 13 8 9 6; 12 7 8 5; 7 2 3 0]  0.004509 seconds (3.01 k allocations: 68.141 KiB)\n"
     ]
    }
   ],
   "source": [
    "#input matrix\n",
    "\n",
    "#0, 8, 0, 1, \n",
    "#0, 0, 1, 0, \n",
    "#4, 0, 0, 0, \n",
    "#0, 2, 9, 0, \n",
    "\n",
    "#desired output\n",
    "\n",
    "#0, 3, 4, 1, \n",
    "#5, 0, 1, 6, \n",
    "#4, 7, 0, 5, \n",
    "#7, 2, 3, 0, \n",
    " \n",
    "matrix =  GBMatrix([[0, 5, 4, 7] [3, 0, 7, 2] [4, 1, 0, 3] [1, 6, 5, 0]])\n",
    "@time floydwarshall(matrix, 4)"
   ]
  },
  {
   "cell_type": "code",
   "execution_count": null,
   "id": "d9ff37b3",
   "metadata": {},
   "outputs": [],
   "source": []
  }
 ],
 "metadata": {
  "kernelspec": {
   "display_name": "Julia 1.6.2",
   "language": "julia",
   "name": "julia-1.6"
  },
  "language_info": {
   "file_extension": ".jl",
   "mimetype": "application/julia",
   "name": "julia",
   "version": "1.6.2"
  }
 },
 "nbformat": 4,
 "nbformat_minor": 5
}
