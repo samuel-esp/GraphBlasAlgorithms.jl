{
 "cells": [
  {
   "cell_type": "markdown",
   "id": "0d193e3a",
   "metadata": {},
   "source": [
    "## K-Truss Algorithm (Julia - Graph Blas Library)"
   ]
  },
  {
   "cell_type": "markdown",
   "id": "8c8139e3",
   "metadata": {},
   "source": [
    "\"A k-truss in a graph is a subset of the graph such that every edge in the subject is supported by at least k−2 other edges that form triangles with that particular edge. In other words, every edge in the truss must be part of k−2 triangles made up of nodes that are part of the truss. By definition, 3-trusses are the triangles of a graph.\"\n",
    "\n"
   ]
  },
  {
   "cell_type": "code",
   "execution_count": 3,
   "id": "4adb219d",
   "metadata": {},
   "outputs": [],
   "source": [
    "using SuiteSparseGraphBLAS\n",
    "using SparseArrays\n",
    "using LinearAlgebra"
   ]
  },
  {
   "cell_type": "code",
   "execution_count": 102,
   "id": "6d100808",
   "metadata": {},
   "outputs": [
    {
     "data": {
      "text/plain": [
       "ktruss (generic function with 1 method)"
      ]
     },
     "execution_count": 102,
     "metadata": {},
     "output_type": "execute_result"
    }
   ],
   "source": [
    "function ktruss(A, k, n)\n",
    "     \n",
    "    C = A\n",
    "    print(\"STARTING ALGORITHM ...\\n\\n\")\n",
    "    for i = 1:n-1\n",
    "       C = mul(C, C, Semirings.PLUS_LAND, mask=C)\n",
    "       C = select(SelectOps.GE, C, k-2)  \n",
    "       print(C) \n",
    "       #*** \n",
    "       print(\"\\n\\n\\n\") \n",
    "       print(\"ITERATION FINISHED\")\n",
    "       print(\"\\n\\n\\n\") \n",
    "    end\n",
    "    \n",
    "end\n",
    "\n",
    "#***\n",
    "#optional: we could also tell the algorithm to stop if the non zero values didn't change from the previous iteration"
   ]
  },
  {
   "cell_type": "markdown",
   "id": "0b588095",
   "metadata": {},
   "source": [
    "## Test"
   ]
  },
  {
   "attachments": {},
   "cell_type": "markdown",
   "id": "c1d25504",
   "metadata": {},
   "source": [
    "Given the definition written above and the example below, the ouput adjacency matrix will be the same as the input one because there are 3 triangles inside the original graphs and the 3-truss subgraph will be the original graph itself"
   ]
  },
  {
   "attachments": {
    "Schermata%202021-08-19%20alle%2012.53.53.png": {
     "image/png": "[encoded data removed]"
    }
   },
   "cell_type": "markdown",
   "id": "39f7cc81",
   "metadata": {},
   "source": [
    "![Schermata%202021-08-19%20alle%2012.53.53.png](attachment:Schermata%202021-08-19%20alle%2012.53.53.png)"
   ]
  },
  {
   "cell_type": "code",
   "execution_count": 103,
   "id": "b4f199d7",
   "metadata": {},
   "outputs": [
    {
     "name": "stdout",
     "output_type": "stream",
     "text": [
      "STARTING ALGORITHM ...\n",
      "\n",
      "[nothing 1 1 nothing nothing; 1 nothing 2 1 2; 1 2 nothing nothing 1; nothing 1 nothing nothing 1; nothing 2 1 1 nothing]\n",
      "\n",
      "\n",
      "ITERATION FINISHED\n",
      "\n",
      "\n",
      "[nothing 1 1 nothing nothing; 1 nothing 2 1 2; 1 2 nothing nothing 1; nothing 1 nothing nothing 1; nothing 2 1 1 nothing]\n",
      "\n",
      "\n",
      "ITERATION FINISHED\n",
      "\n",
      "\n",
      "[nothing 1 1 nothing nothing; 1 nothing 2 1 2; 1 2 nothing nothing 1; nothing 1 nothing nothing 1; nothing 2 1 1 nothing]\n",
      "\n",
      "\n",
      "ITERATION FINISHED\n",
      "\n",
      "\n",
      "[nothing 1 1 nothing nothing; 1 nothing 2 1 2; 1 2 nothing nothing 1; nothing 1 nothing nothing 1; nothing 2 1 1 nothing]\n",
      "\n",
      "\n",
      "ITERATION FINISHED\n",
      "\n",
      "\n"
     ]
    }
   ],
   "source": [
    "#ORIGINAL GRAPH WITH 3 TRIANGLES -> 3-TRUSS IS THE ORIGINAL GRAPH ITSELF\n",
    "\n",
    "#0 -  1  -  3\n",
    "#\\   /\\    /\n",
    "# \\ /  \\  / \n",
    "#  2 -  4     \n",
    "\n",
    "#INPUT MATRIX\n",
    "\n",
    "#0, 1, 1, 0, 0, \n",
    "#1, 0, 1, 1, 1, \n",
    "#1, 1, 0, 0, 1, \n",
    "#0, 1, 0, 0, 1, \n",
    "#0, 1, 1, 1, 0, \n",
    "\n",
    "#OUTPUT MATRIX FOR 3-TRUSS\n",
    "\n",
    "#v = non-zero-values\n",
    "\n",
    "#0, v, v, 0, 0, \n",
    "#v, 0, v, v, v, \n",
    "#v, v, 0, 0, v, \n",
    "#0, v, 0, 0, v, \n",
    "#0, v, v, v, 0, \n",
    "\n",
    "\n",
    "\n",
    "matrix =  GBMatrix([[0, 1, 1, 0, 0] [1, 0, 1, 1, 1] [1, 1, 0, 0, 1] [0, 1, 0, 0, 1] [0, 1, 1, 1, 0]])\n",
    "ktruss(matrix, 3, 5)"
   ]
  },
  {
   "cell_type": "code",
   "execution_count": null,
   "id": "6c45282c",
   "metadata": {},
   "outputs": [],
   "source": []
  }
 ],
 "metadata": {
  "kernelspec": {
   "display_name": "Julia 1.6.2",
   "language": "julia",
   "name": "julia-1.6"
  },
  "language_info": {
   "file_extension": ".jl",
   "mimetype": "application/julia",
   "name": "julia",
   "version": "1.6.2"
  }
 },
 "nbformat": 4,
 "nbformat_minor": 5
}
