{
 "cells": [
  {
   "cell_type": "markdown",
   "id": "bee215a1",
   "metadata": {},
   "source": [
    "## Multi Source - BFS Level Algorithm (Julia - Graph Blas Library)\n"
   ]
  },
  {
   "cell_type": "code",
   "execution_count": 1,
   "id": "7690c7a0",
   "metadata": {},
   "outputs": [],
   "source": [
    "using SuiteSparseGraphBLAS\n",
    "using SparseArrays\n",
    "using LinearAlgebra"
   ]
  },
  {
   "cell_type": "code",
   "execution_count": 54,
   "id": "26b10371",
   "metadata": {},
   "outputs": [
    {
     "data": {
      "text/plain": [
       "ms_bfs (generic function with 1 method)"
      ]
     },
     "execution_count": 54,
     "metadata": {},
     "output_type": "execute_result"
    }
   ],
   "source": [
    "#A is the input matrix, S is the source matrix, and n is the number of nodes, s is the number of sources in the matrix S\n",
    "function ms_bfs(A, S, n, s)\n",
    "     \n",
    "    #this vector allows to check if a value is already present inside the distance matrix, \n",
    "    #if it's present we don't want it to be changed\n",
    "    levels = GBVector{Int64}(n)\n",
    "        for i = 1:n\n",
    "            levels[i] = i\n",
    "        end\n",
    "    \n",
    "    #distance matrix\n",
    "    distance = GBMatrix{Int64}(s, n)\n",
    "            for i = 1:s\n",
    "                for j = 1:n\n",
    "                    distance[i, j] = 0\n",
    "                end\n",
    "            end\n",
    "    \n",
    "    print(\"STARTING FROM SOURCE NODE\\n\\n\")\n",
    "    for level = 1:n-1\n",
    "        \n",
    "            for i = 1:s\n",
    "                for j = 1:n\n",
    "                    if(S[i, j]!=0 && distance[i, j] ∉ levels) #*\n",
    "                    distance[i, j] = level #*\n",
    "                    end\n",
    "                end\n",
    "            end\n",
    "            \n",
    "            print(\"FRONTIER\\n\\n\")\n",
    "            print(S)\n",
    "            print(\"\\n\\n\")\n",
    "            \n",
    "        \n",
    "            S = mul(S, A, Semirings.LOR_LAND, mask=distance, desc=Descriptors.RC)\n",
    "            print(\"DISTANCE\\n\\n\")\n",
    "            print(distance)\n",
    "            print(\"\\n\\n\")\n",
    "            print(\"ITERATION COMPLETED\")\n",
    "            print(\"\\n\\n\")\n",
    "        \n",
    "            #print(distance)\n",
    "    end\n",
    "    \n",
    "    print(\"END\")\n",
    "    \n",
    "end"
   ]
  },
  {
   "cell_type": "markdown",
   "id": "d1e4a222",
   "metadata": {},
   "source": [
    "## Test"
   ]
  },
  {
   "cell_type": "code",
   "execution_count": 56,
   "id": "a393842a",
   "metadata": {},
   "outputs": [
    {
     "name": "stdout",
     "output_type": "stream",
     "text": [
      "STARTING FROM SOURCE NODE\n",
      "\n",
      "FRONTIER\n",
      "\n",
      "Bool[1 0 0 0 0 0 0; 0 0 1 0 0 0 0; 0 0 0 1 0 0 0]\n",
      "\n",
      "DISTANCE\n",
      "\n",
      "[1 0 0 0 0 0 0; 0 0 1 0 0 0 0; 0 0 0 1 0 0 0]\n",
      "\n",
      "ITERATION COMPLETED\n",
      "\n",
      "FRONTIER\n",
      "\n",
      "Bool[nothing 1 0 1 0 0 0; 0 0 nothing 0 0 1 0; 1 0 1 nothing 0 0 0]\n",
      "\n",
      "DISTANCE\n",
      "\n",
      "[1 2 0 2 0 0 0; 0 0 1 0 0 2 0; 2 0 2 1 0 0 0]\n",
      "\n",
      "ITERATION COMPLETED\n",
      "\n",
      "FRONTIER\n",
      "\n",
      "Bool[nothing nothing 1 nothing 1 0 1; 0 0 nothing 0 0 nothing 0; nothing 1 nothing nothing 0 1 0]\n",
      "\n",
      "DISTANCE\n",
      "\n",
      "[1 2 3 2 3 0 3; 0 0 1 0 0 2 0; 2 3 2 1 0 3 0]\n",
      "\n",
      "ITERATION COMPLETED\n",
      "\n",
      "FRONTIER\n",
      "\n",
      "Bool[nothing nothing nothing nothing nothing 1 nothing; 0 0 nothing 0 0 nothing 0; nothing nothing nothing nothing 1 nothing 1]\n",
      "\n",
      "DISTANCE\n",
      "\n",
      "[1 2 3 2 3 4 3; 0 0 1 0 0 2 0; 2 3 2 1 4 3 4]\n",
      "\n",
      "ITERATION COMPLETED\n",
      "\n",
      "FRONTIER\n",
      "\n",
      "Bool[nothing nothing nothing nothing nothing nothing nothing; 0 0 nothing 0 0 nothing 0; nothing nothing nothing nothing nothing nothing nothing]\n",
      "\n",
      "DISTANCE\n",
      "\n",
      "[1 2 3 2 3 4 3; 0 0 1 0 0 2 0; 2 3 2 1 4 3 4]\n",
      "\n",
      "ITERATION COMPLETED\n",
      "\n",
      "FRONTIER\n",
      "\n",
      "Bool[nothing nothing nothing nothing nothing nothing nothing; 0 0 nothing 0 0 nothing 0; nothing nothing nothing nothing nothing nothing nothing]\n",
      "\n",
      "DISTANCE\n",
      "\n",
      "[1 2 3 2 3 4 3; 0 0 1 0 0 2 0; 2 3 2 1 4 3 4]\n",
      "\n",
      "ITERATION COMPLETED\n",
      "\n",
      "END"
     ]
    }
   ],
   "source": [
    "#0, 1, 1, 1, 0, 0, 0, \n",
    "#0, 0, 0, 0, 0, 0, 0, \n",
    "#0, 0, 0, 0, 0, 0, 0, \n",
    "#0, 0, 0, 0, 0, 1, 0, \n",
    "#0, 0, 0, 0, 0, 0, 0, \n",
    "#0, 0, 0, 0, 0, 0, 1, \n",
    "#0, 0, 0, 0, 1, 0, 0, \n",
    "\n",
    "matrix =  GBMatrix([[false, false, false, true, false, false, false] [true, false, false, false, false, false, false] [false, false, false, true, false, true, true] [true, false, false, false, false, false, true] [false, true, false, false, false, false, true] [false, false, true, false, true, false, false] [false, true, false, false, false, false, false]])\n",
    "S = GBMatrix([[true, false, false] [false, false, false] [false, true, false] [false, false, true] [false, false, false] [false, false, false] [false, false, false]])\n",
    "\n",
    "ms_bfs(matrix, S, 7, 3)\n",
    "\n"
   ]
  }
 ],
 "metadata": {
  "kernelspec": {
   "display_name": "Julia 1.6.2",
   "language": "julia",
   "name": "julia-1.6"
  },
  "language_info": {
   "file_extension": ".jl",
   "mimetype": "application/julia",
   "name": "julia",
   "version": "1.6.2"
  }
 },
 "nbformat": 4,
 "nbformat_minor": 5
}
