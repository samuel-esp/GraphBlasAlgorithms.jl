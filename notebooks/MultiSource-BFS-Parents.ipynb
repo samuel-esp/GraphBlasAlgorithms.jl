{
 "cells": [
  {
   "cell_type": "markdown",
   "id": "f8a5fac7",
   "metadata": {},
   "source": [
    "## Multi Source - BFS Parents Algorithm (Julia - Graph Blas Library)\n"
   ]
  },
  {
   "cell_type": "code",
   "execution_count": 3,
   "id": "9e4e7c1b",
   "metadata": {},
   "outputs": [],
   "source": [
    "using SuiteSparseGraphBLAS\n",
    "using SparseArrays\n",
    "using LinearAlgebra"
   ]
  },
  {
   "cell_type": "code",
   "execution_count": 49,
   "id": "478ee232",
   "metadata": {},
   "outputs": [
    {
     "data": {
      "text/plain": [
       "insert (generic function with 2 methods)"
      ]
     },
     "execution_count": 49,
     "metadata": {},
     "output_type": "execute_result"
    }
   ],
   "source": [
    "function insert(P, R, s, n)\n",
    "    for i = 1:s\n",
    "        for j = 1:n\n",
    "            if(P[i, j]!=nothing && R[i, j]==nothing) #*\n",
    "                R[i, j] = P[i, j] \n",
    "            end\n",
    "        end\n",
    "    end\n",
    "    \n",
    "    return R\n",
    "    \n",
    "end"
   ]
  },
  {
   "cell_type": "code",
   "execution_count": 92,
   "id": "e01c700e",
   "metadata": {},
   "outputs": [
    {
     "data": {
      "text/plain": [
       "bfs_parents (generic function with 1 method)"
      ]
     },
     "execution_count": 92,
     "metadata": {},
     "output_type": "execute_result"
    }
   ],
   "source": [
    "#A is the input matrix, s is the source node, and n is the number of nodes\n",
    "function bfs_parents(A, S, n, s)\n",
    "     \n",
    "    index = GBMatrix{Int64}(s, n)\n",
    "            for i = 1:n\n",
    "                for j = 1:s\n",
    "                    index[j, i] = i\n",
    "                end\n",
    "            end\n",
    "    \n",
    "    #frontier matrix -> F=S source nodes insrted in frontier\n",
    "    F = GBMatrix{Int64}(n, n)\n",
    "    F = S\n",
    "    \n",
    "    #parent matrix -> P[S]=S because the source is already visited\n",
    "    P = GBMatrix{Int64}(n, n)\n",
    "    P = S\n",
    "    \n",
    "    #result matrix -> R[S]=0 because the parents of the source are considered node 0\n",
    "    R = GBMatrix{Int64}(s, n)\n",
    "    LR = GBMatrix{Int64}(s, n)\n",
    "    R = copy(S)\n",
    "    for i = 1:n\n",
    "        for j = 1:s\n",
    "            if(R[j, i]!=nothing)\n",
    "                R[j, i] = 0\n",
    "            end\n",
    "        end\n",
    "    end   \n",
    "    \n",
    "    print(\"STARTING ...\\n\\n\")\n",
    "    for i = 1:n-1\n",
    "            F = mul(F, A, Semirings.MIN_FIRST, mask=P, desc=Descriptors.RC)\n",
    "            P = F[:, :, mask=F, desc=Descriptors.S]\n",
    "            F = index[:, :, mask=F, desc=Descriptors.S]\n",
    "            R = insert(P, R, s, n)\n",
    "            if(R == LR)\n",
    "                break\n",
    "            end\n",
    "            print(\"\\nFRONTIER UPDATED\\n\\n\")\n",
    "            print(F)\n",
    "            LR = copy(R)\n",
    "            print(\"\\n\\nITERATION FINISHED\\n\\n\")\n",
    "            \n",
    "    end\n",
    "    \n",
    "    print(\"COMPLETED\\n\\n\")\n",
    "    print(\"RESULT\\n\\n\")\n",
    "    print(R)\n",
    "    \n",
    "end"
   ]
  },
  {
   "cell_type": "markdown",
   "id": "b7c58b52",
   "metadata": {},
   "source": [
    "## Test"
   ]
  },
  {
   "cell_type": "code",
   "execution_count": 93,
   "id": "3547e842",
   "metadata": {},
   "outputs": [
    {
     "name": "stdout",
     "output_type": "stream",
     "text": [
      "STARTING ...\n",
      "\n",
      "\n",
      "FRONTIER UPDATED\n",
      "\n",
      "[nothing 2 nothing 4 nothing nothing nothing; nothing nothing nothing nothing nothing 6 nothing; 1 nothing 3 nothing nothing nothing nothing]\n",
      "\n",
      "ITERATION FINISHED\n",
      "\n",
      "\n",
      "FRONTIER UPDATED\n",
      "\n",
      "[1 nothing 3 nothing 5 nothing 7; nothing nothing 3 nothing nothing nothing nothing; nothing 2 nothing 4 nothing 6 nothing]\n",
      "\n",
      "ITERATION FINISHED\n",
      "\n",
      "\n",
      "FRONTIER UPDATED\n",
      "\n",
      "[nothing 2 nothing 4 nothing 6 nothing; nothing nothing nothing nothing nothing 6 nothing; 1 nothing 3 nothing 5 nothing 7]\n",
      "\n",
      "ITERATION FINISHED\n",
      "\n",
      "COMPLETED\n",
      "\n",
      "RESULT\n",
      "\n",
      "[0 1 4 1 2 3 2; nothing nothing 0 nothing nothing 3 nothing; 4 1 4 0 2 3 2]  0.048975 seconds (52.39 k allocations: 3.000 MiB, 91.29% compilation time)\n"
     ]
    }
   ],
   "source": [
    "S = GBMatrix(sparse([[1, 0, 0] [0, 0, 0] [0, 3, 0] [0, 0, 4] [0, 0, 0] [0, 0, 0] [0, 0, 0]]))\n",
    "matrix =  GBMatrix(sparse([[0, 0, 0, 1, 0, 0, 0] [1, 0, 0, 0, 0, 0, 0] [0, 0, 0, 1, 0, 1, 1] [1, 0, 0, 0, 0, 0, 1] [0, 1, 0, 0, 0, 0, 1] [0, 0, 1, 0, 1, 0, 0] [0, 1, 0, 0, 0, 0, 0]]))\n",
    "#print(source')\n",
    "@time bfs_parents(matrix, S, 7, 3)\n",
    "\n",
    "\n",
    "\n"
   ]
  },
  {
   "cell_type": "code",
   "execution_count": null,
   "id": "66701063",
   "metadata": {},
   "outputs": [],
   "source": []
  }
 ],
 "metadata": {
  "kernelspec": {
   "display_name": "Julia 1.6.2",
   "language": "julia",
   "name": "julia-1.6"
  },
  "language_info": {
   "file_extension": ".jl",
   "mimetype": "application/julia",
   "name": "julia",
   "version": "1.6.2"
  }
 },
 "nbformat": 4,
 "nbformat_minor": 5
}
