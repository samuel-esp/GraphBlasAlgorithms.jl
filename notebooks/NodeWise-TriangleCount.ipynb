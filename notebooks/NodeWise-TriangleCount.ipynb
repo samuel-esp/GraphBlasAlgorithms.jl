{
 "cells": [
  {
   "cell_type": "markdown",
   "id": "0fc7775a",
   "metadata": {},
   "source": [
    "## Node Wise - Triangle Count (Julia - Graph Blas Library)"
   ]
  },
  {
   "cell_type": "code",
   "execution_count": 2,
   "id": "4dca270d",
   "metadata": {},
   "outputs": [],
   "source": [
    "using SuiteSparseGraphBLAS\n",
    "using SparseArrays\n",
    "using LinearAlgebra"
   ]
  },
  {
   "cell_type": "code",
   "execution_count": 3,
   "id": "da2506be",
   "metadata": {},
   "outputs": [
    {
     "data": {
      "text/plain": [
       "nodewise_tc (generic function with 1 method)"
      ]
     },
     "execution_count": 3,
     "metadata": {},
     "output_type": "execute_result"
    }
   ],
   "source": [
    "#A is the input matrix. Output: triangles originated by each node\n",
    "function nodewise_tc(A)\n",
    "     \n",
    "    #extracting lower matrix from input matrix\n",
    "    partial = mul(A, A, Semirings.PLUS_TIMES, mask=A)\n",
    "    t = reduce(Monoids.PLUS_MONOID[Float64], partial, dims=2)\n",
    "    print(t/2)\n",
    "    \n",
    "end"
   ]
  },
  {
   "cell_type": "markdown",
   "id": "debceb8b",
   "metadata": {},
   "source": [
    "## Test"
   ]
  },
  {
   "cell_type": "code",
   "execution_count": 5,
   "id": "9c38dce8",
   "metadata": {},
   "outputs": [
    {
     "name": "stdout",
     "output_type": "stream",
     "text": [
      "[1.0, 3.0, 2.0, 1.0, 2.0]  0.000571 seconds (285 allocations: 7.938 KiB)\n"
     ]
    }
   ],
   "source": [
    "#0, 1, 1, 0, 0, \n",
    "#1, 0, 1, 1, 1, \n",
    "#1, 1, 0, 0, 1, \n",
    "#0, 1, 0, 0, 1, \n",
    "#0, 1, 1, 1, 0,\n",
    "\n",
    "#EXPECTED OUTPUT: [1, 3, 2, 1, 2]\n",
    "\n",
    "matrix =  GBMatrix(sparse([[0, 1, 1, 0, 0] [1, 0, 1, 1, 1] [1, 1, 0, 0, 1] [0, 1, 0, 0, 1] [0, 1, 1, 1, 0]]))\n",
    "@time nodewise_tc(matrix)"
   ]
  },
  {
   "cell_type": "code",
   "execution_count": null,
   "id": "9f6d901d",
   "metadata": {},
   "outputs": [],
   "source": []
  }
 ],
 "metadata": {
  "kernelspec": {
   "display_name": "Julia 1.6.2",
   "language": "julia",
   "name": "julia-1.6"
  },
  "language_info": {
   "file_extension": ".jl",
   "mimetype": "application/julia",
   "name": "julia",
   "version": "1.6.2"
  }
 },
 "nbformat": 4,
 "nbformat_minor": 5
}
