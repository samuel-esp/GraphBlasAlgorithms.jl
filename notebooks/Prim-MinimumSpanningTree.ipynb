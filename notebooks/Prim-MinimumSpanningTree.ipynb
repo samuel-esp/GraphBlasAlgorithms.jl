{
 "cells": [
  {
   "cell_type": "markdown",
   "id": "2acd8ca7",
   "metadata": {},
   "source": [
    "## Prim Algorithm - Minimum Spanning Tree (Julia - Graph Blas Library)"
   ]
  },
  {
   "cell_type": "code",
   "execution_count": 126,
   "id": "b9bd2573",
   "metadata": {},
   "outputs": [],
   "source": [
    "using SuiteSparseGraphBLAS\n",
    "using SparseArrays"
   ]
  },
  {
   "cell_type": "code",
   "execution_count": 127,
   "id": "a48d2bd2",
   "metadata": {},
   "outputs": [
    {
     "data": {
      "text/plain": [
       "stoppingCondition (generic function with 1 method)"
      ]
     },
     "execution_count": 127,
     "metadata": {},
     "output_type": "execute_result"
    }
   ],
   "source": [
    "function stoppingCondition(m, n)\n",
    "\n",
    "infinito = true\n",
    "    \n",
    "for i = 1:n\n",
    "        if(m[i] == 0.0)\n",
    "            return false\n",
    "    end\n",
    "end\n",
    "    return infinito\n",
    "end"
   ]
  },
  {
   "cell_type": "code",
   "execution_count": 128,
   "id": "6db41a8a",
   "metadata": {},
   "outputs": [
    {
     "data": {
      "text/plain": [
       "prim (generic function with 1 method)"
      ]
     },
     "execution_count": 128,
     "metadata": {},
     "output_type": "execute_result"
    }
   ],
   "source": [
    "#A is the input matrix, s is the source node, n is the number of nodes \n",
    "function prim(A, n)\n",
    "    \n",
    "    m = GBVector([Inf, 0.0, 0.0, 0.0])\n",
    "    d = GBVector{Float64}(n)\n",
    "    \n",
    "    weight = 0.0\n",
    "    \n",
    "    d = A[1,:]\n",
    "    print(\"INITIAL WEIGHT: \")\n",
    "    print(weight)\n",
    "    print(\"\\n\\n\")\n",
    "    while(stoppingCondition(m, n) == false)\n",
    "        \n",
    "        u = argmin(m'+d)\n",
    "        m[u[2]] = Inf\n",
    "        weight = weight + d[u[2]]\n",
    "        print(\"WEIGHT: \")\n",
    "        print(weight)\n",
    "        d = emul(d, A[u[1],:],  BinaryOps.MIN)\n",
    "        print(\"  ITERATION FINISHED\")\n",
    "        print(\"\\n\\n\\n\")\n",
    "    end\n",
    "    \n",
    "    print(\"COMPLETED\")\n",
    "    print(\" ALL THE NODES HAVE BEEN PROCESSED (INF)\")\n",
    "    print(\"\\n\\n\\n\")\n",
    "    print(m')\n",
    "    \n",
    "end"
   ]
  },
  {
   "cell_type": "markdown",
   "id": "ce98aca8",
   "metadata": {},
   "source": [
    "## Test\n"
   ]
  },
  {
   "cell_type": "code",
   "execution_count": 125,
   "id": "b6221aac",
   "metadata": {},
   "outputs": [
    {
     "name": "stdout",
     "output_type": "stream",
     "text": [
      "INITIAL WEIGHT: 0.0\n",
      "\n",
      "WEIGHT: 5.0  ITERATION FINISHED\n",
      "\n",
      "\n",
      "WEIGHT: 10.0  ITERATION FINISHED\n",
      "\n",
      "\n",
      "WEIGHT: 17.0  ITERATION FINISHED\n",
      "\n",
      "\n",
      "COMPLETED ALL THE NODES HAVE BEEN PROCESSED (INF)\n",
      "\n",
      "\n",
      "[Inf Inf Inf Inf]"
     ]
    }
   ],
   "source": [
    "#0, 7, 5, 5, \n",
    "#7, 0, 0, 0, \n",
    "#5, 0, 0, 0, \n",
    "#5, 0, 0, 0, \n",
    "\n",
    "#DESIRED OUTPUT: 17\n",
    "\n",
    "matrix =  GBMatrix([[0.0, 7.0, 5.0, 5.0] [7.0, 0.0, 0.0, 0.0] [5.0, 0.0, 0.0, 0.0] [5.0, 0.0, 0.0, 0.0]])\n",
    "prim(matrix, 4)"
   ]
  }
 ],
 "metadata": {
  "kernelspec": {
   "display_name": "Julia 1.6.2",
   "language": "julia",
   "name": "julia-1.6"
  },
  "language_info": {
   "file_extension": ".jl",
   "mimetype": "application/julia",
   "name": "julia",
   "version": "1.6.2"
  }
 },
 "nbformat": 4,
 "nbformat_minor": 5
}
