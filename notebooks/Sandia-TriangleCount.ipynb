{
 "cells": [
  {
   "cell_type": "markdown",
   "id": "80ab4362",
   "metadata": {},
   "source": [
    "## Sandia Algorithm - Triangle Count (Julia - Graph Blas Library)"
   ]
  },
  {
   "cell_type": "code",
   "execution_count": 1,
   "id": "e121f2bc",
   "metadata": {},
   "outputs": [],
   "source": [
    "using SuiteSparseGraphBLAS\n",
    "using SparseArrays\n",
    "using LinearAlgebra"
   ]
  },
  {
   "cell_type": "code",
   "execution_count": 7,
   "id": "d6480d76",
   "metadata": {},
   "outputs": [
    {
     "data": {
      "text/plain": [
       "sandia (generic function with 1 method)"
      ]
     },
     "execution_count": 7,
     "metadata": {},
     "output_type": "execute_result"
    }
   ],
   "source": [
    "#A is the input matrix for Floyd-Warshall multiple sources multiple destinations \n",
    "function sandia(A)\n",
    "     \n",
    "    #extracting lower matrix from input matrix\n",
    "    L = tril(A)\n",
    "\n",
    "\n",
    "    C = mul(L, L, Semirings.PLUS_TIMES, mask=L)\n",
    "    result = reduce(Monoids.PLUS_MONOID, C, dims=:)\n",
    "    \n",
    "    print(\"\\n\\n\")\n",
    "    print(\"RESULT \")\n",
    "    print(result)\n",
    "    \n",
    "end"
   ]
  },
  {
   "cell_type": "markdown",
   "id": "c54d2d12",
   "metadata": {},
   "source": [
    "## Test"
   ]
  },
  {
   "cell_type": "code",
   "execution_count": 9,
   "id": "10982d8c",
   "metadata": {},
   "outputs": [
    {
     "name": "stdout",
     "output_type": "stream",
     "text": [
      "\n",
      "\n",
      "RESULT 3  0.000279 seconds (90 allocations: 2.016 KiB)\n"
     ]
    }
   ],
   "source": [
    "#0, 1, 1, 0, 0, \n",
    "#1, 0, 1, 1, 1, \n",
    "#1, 1, 0, 0, 1, \n",
    "#0, 1, 0, 0, 1, \n",
    "#0, 1, 1, 1, 0,\n",
    "\n",
    "#EXPECTED OUTPUT: 3\n",
    "\n",
    "matrix =  GBMatrix(sparse([[0, 1, 1, 0, 0] [1, 0, 1, 1, 1] [1, 1, 0, 0, 1] [0, 1, 0, 0, 1] [0, 1, 1, 1, 0]]))\n",
    "@time sandia(matrix)"
   ]
  },
  {
   "cell_type": "code",
   "execution_count": null,
   "id": "ce41197f",
   "metadata": {},
   "outputs": [],
   "source": []
  }
 ],
 "metadata": {
  "kernelspec": {
   "display_name": "Julia 1.6.2",
   "language": "julia",
   "name": "julia-1.6"
  },
  "language_info": {
   "file_extension": ".jl",
   "mimetype": "application/julia",
   "name": "julia",
   "version": "1.6.2"
  }
 },
 "nbformat": 4,
 "nbformat_minor": 5
}
